{
  "nbformat": 4,
  "nbformat_minor": 0,
  "metadata": {
    "colab": {
      "provenance": []
    },
    "kernelspec": {
      "name": "python3",
      "display_name": "Python 3"
    },
    "language_info": {
      "name": "python"
    }
  },
  "cells": [
    {
      "cell_type": "code",
      "source": [
        "import urllib.parse\n",
        "import requests\n",
        "from IPython.display import display, HTML\n",
        "\n",
        "def display_links_and_weather_alert(location):\n",
        "    encoded_location = urllib.parse.quote_plus(location)\n",
        "    boat_rentals_url = f\"https://www.google.com/maps/search/boat+rentals+near+{encoded_location}\"\n",
        "    fish_markets_url = f\"https://www.google.com/maps/search/fish+markets+near+{encoded_location}\"\n",
        "    cold_storage_url = f\"https://www.google.com/maps/search/cold+storage+facilities+near+{encoded_location}\"\n",
        "    fishing_gear_url = f\"https://www.google.com/maps/search/fishing+gear+suppliers+near+{encoded_location}\"\n",
        "    boat_repair_url = f\"https://www.google.com/maps/search/boat+repair+suppliers+near+{encoded_location}\"\n",
        "    ice_supply_url = f\"https://www.google.com/maps/search/ice+suppliers+near+{encoded_location}\"\n",
        "    boat_fuel_url = f\"https://www.google.com/maps/search/boat+fuel+suppliers+near+{encoded_location}\"\n",
        "    fish_packaging_url = f\"https://www.google.com/maps/search/fish+packaging+suppliers+near+{encoded_location}\"\n",
        "\n",
        "    display(HTML(f'<b>For location {location}</b><br>'))\n",
        "    display(HTML(f'<a href=\"{boat_rentals_url}\" target=\"_blank\">Boat Rentals</a><br>'))\n",
        "    display(HTML(f'<a href=\"{fish_markets_url}\" target=\"_blank\">Fish Markets</a><br>'))\n",
        "    display(HTML(f'<a href=\"{cold_storage_url}\" target=\"_blank\">Cold Storage Facilities</a><br>'))\n",
        "    display(HTML(f'<a href=\"{fishing_gear_url}\" target=\"_blank\">Fishing Gear Suppliers</a><br>'))\n",
        "    display(HTML(f'<a href=\"{boat_repair_url}\" target=\"_blank\">Boat Repair Suppliers</a><br>'))\n",
        "    display(HTML(f'<a href=\"{ice_supply_url}\" target=\"_blank\">Ice Suppliers</a><br>'))\n",
        "    display(HTML(f'<a href=\"{boat_fuel_url}\" target=\"_blank\">Boat Fuel Suppliers</a><br>'))\n",
        "    display(HTML(f'<a href=\"{fish_packaging_url}\" target=\"_blank\">Fish Packaging Suppliers</a><br>'))\n",
        "\n",
        ""
      ],
      "metadata": {
        "id": "HZPMCpheH0Ey"
      },
      "execution_count": 16,
      "outputs": []
    },
    {
      "cell_type": "code",
      "source": [
        "display_links_and_weather_alert(\"ashok nagar, hyderabad\")\n",
        "display_links_and_weather_alert(\"karol bagh, delhi\")\n"
      ],
      "metadata": {
        "colab": {
          "base_uri": "https://localhost:8080/",
          "height": 329
        },
        "id": "h-Gd08Rto8mc",
        "outputId": "4b932f78-1bdc-4883-e189-aea805f12ba5"
      },
      "execution_count": 17,
      "outputs": [
        {
          "output_type": "display_data",
          "data": {
            "text/plain": [
              "<IPython.core.display.HTML object>"
            ],
            "text/html": [
              "<b>For location ashok nagar, hyderabad</b><br>"
            ]
          },
          "metadata": {}
        },
        {
          "output_type": "display_data",
          "data": {
            "text/plain": [
              "<IPython.core.display.HTML object>"
            ],
            "text/html": [
              "<a href=\"https://www.google.com/maps/search/boat+rentals+near+ashok+nagar%2C+hyderabad\" target=\"_blank\">Boat Rentals</a><br>"
            ]
          },
          "metadata": {}
        },
        {
          "output_type": "display_data",
          "data": {
            "text/plain": [
              "<IPython.core.display.HTML object>"
            ],
            "text/html": [
              "<a href=\"https://www.google.com/maps/search/fish+markets+near+ashok+nagar%2C+hyderabad\" target=\"_blank\">Fish Markets</a><br>"
            ]
          },
          "metadata": {}
        },
        {
          "output_type": "display_data",
          "data": {
            "text/plain": [
              "<IPython.core.display.HTML object>"
            ],
            "text/html": [
              "<a href=\"https://www.google.com/maps/search/cold+storage+facilities+near+ashok+nagar%2C+hyderabad\" target=\"_blank\">Cold Storage Facilities</a><br>"
            ]
          },
          "metadata": {}
        },
        {
          "output_type": "display_data",
          "data": {
            "text/plain": [
              "<IPython.core.display.HTML object>"
            ],
            "text/html": [
              "<a href=\"https://www.google.com/maps/search/fishing+gear+suppliers+near+ashok+nagar%2C+hyderabad\" target=\"_blank\">Fishing Gear Suppliers</a><br>"
            ]
          },
          "metadata": {}
        },
        {
          "output_type": "display_data",
          "data": {
            "text/plain": [
              "<IPython.core.display.HTML object>"
            ],
            "text/html": [
              "<a href=\"https://www.google.com/maps/search/boat+repair+suppliers+near+ashok+nagar%2C+hyderabad\" target=\"_blank\">Boat Repair Suppliers</a><br>"
            ]
          },
          "metadata": {}
        },
        {
          "output_type": "display_data",
          "data": {
            "text/plain": [
              "<IPython.core.display.HTML object>"
            ],
            "text/html": [
              "<a href=\"https://www.google.com/maps/search/ice+suppliers+near+ashok+nagar%2C+hyderabad\" target=\"_blank\">Ice Suppliers</a><br>"
            ]
          },
          "metadata": {}
        },
        {
          "output_type": "display_data",
          "data": {
            "text/plain": [
              "<IPython.core.display.HTML object>"
            ],
            "text/html": [
              "<a href=\"https://www.google.com/maps/search/boat+fuel+suppliers+near+ashok+nagar%2C+hyderabad\" target=\"_blank\">Boat Fuel Suppliers</a><br>"
            ]
          },
          "metadata": {}
        },
        {
          "output_type": "display_data",
          "data": {
            "text/plain": [
              "<IPython.core.display.HTML object>"
            ],
            "text/html": [
              "<a href=\"https://www.google.com/maps/search/fish+packaging+suppliers+near+ashok+nagar%2C+hyderabad\" target=\"_blank\">Fish Packaging Suppliers</a><br>"
            ]
          },
          "metadata": {}
        },
        {
          "output_type": "display_data",
          "data": {
            "text/plain": [
              "<IPython.core.display.HTML object>"
            ],
            "text/html": [
              "<b>For location karol bagh, delhi</b><br>"
            ]
          },
          "metadata": {}
        },
        {
          "output_type": "display_data",
          "data": {
            "text/plain": [
              "<IPython.core.display.HTML object>"
            ],
            "text/html": [
              "<a href=\"https://www.google.com/maps/search/boat+rentals+near+karol+bagh%2C+delhi\" target=\"_blank\">Boat Rentals</a><br>"
            ]
          },
          "metadata": {}
        },
        {
          "output_type": "display_data",
          "data": {
            "text/plain": [
              "<IPython.core.display.HTML object>"
            ],
            "text/html": [
              "<a href=\"https://www.google.com/maps/search/fish+markets+near+karol+bagh%2C+delhi\" target=\"_blank\">Fish Markets</a><br>"
            ]
          },
          "metadata": {}
        },
        {
          "output_type": "display_data",
          "data": {
            "text/plain": [
              "<IPython.core.display.HTML object>"
            ],
            "text/html": [
              "<a href=\"https://www.google.com/maps/search/cold+storage+facilities+near+karol+bagh%2C+delhi\" target=\"_blank\">Cold Storage Facilities</a><br>"
            ]
          },
          "metadata": {}
        },
        {
          "output_type": "display_data",
          "data": {
            "text/plain": [
              "<IPython.core.display.HTML object>"
            ],
            "text/html": [
              "<a href=\"https://www.google.com/maps/search/fishing+gear+suppliers+near+karol+bagh%2C+delhi\" target=\"_blank\">Fishing Gear Suppliers</a><br>"
            ]
          },
          "metadata": {}
        },
        {
          "output_type": "display_data",
          "data": {
            "text/plain": [
              "<IPython.core.display.HTML object>"
            ],
            "text/html": [
              "<a href=\"https://www.google.com/maps/search/boat+repair+suppliers+near+karol+bagh%2C+delhi\" target=\"_blank\">Boat Repair Suppliers</a><br>"
            ]
          },
          "metadata": {}
        },
        {
          "output_type": "display_data",
          "data": {
            "text/plain": [
              "<IPython.core.display.HTML object>"
            ],
            "text/html": [
              "<a href=\"https://www.google.com/maps/search/ice+suppliers+near+karol+bagh%2C+delhi\" target=\"_blank\">Ice Suppliers</a><br>"
            ]
          },
          "metadata": {}
        },
        {
          "output_type": "display_data",
          "data": {
            "text/plain": [
              "<IPython.core.display.HTML object>"
            ],
            "text/html": [
              "<a href=\"https://www.google.com/maps/search/boat+fuel+suppliers+near+karol+bagh%2C+delhi\" target=\"_blank\">Boat Fuel Suppliers</a><br>"
            ]
          },
          "metadata": {}
        },
        {
          "output_type": "display_data",
          "data": {
            "text/plain": [
              "<IPython.core.display.HTML object>"
            ],
            "text/html": [
              "<a href=\"https://www.google.com/maps/search/fish+packaging+suppliers+near+karol+bagh%2C+delhi\" target=\"_blank\">Fish Packaging Suppliers</a><br>"
            ]
          },
          "metadata": {}
        }
      ]
    },
    {
      "cell_type": "code",
      "source": [],
      "metadata": {
        "id": "OWzNxHvAQr-3"
      },
      "execution_count": null,
      "outputs": []
    }
  ]
}