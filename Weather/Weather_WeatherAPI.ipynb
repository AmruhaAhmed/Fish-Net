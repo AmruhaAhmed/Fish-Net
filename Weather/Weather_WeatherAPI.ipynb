{
  "nbformat": 4,
  "nbformat_minor": 0,
  "metadata": {
    "colab": {
      "provenance": []
    },
    "kernelspec": {
      "name": "python3",
      "display_name": "Python 3"
    },
    "language_info": {
      "name": "python"
    }
  },
  "cells": [
    {
      "cell_type": "markdown",
      "source": [
        "**Temparature**"
      ],
      "metadata": {
        "id": "YVWDgvXJgyTp"
      }
    },
    {
      "cell_type": "code",
      "source": [
        "# For Temperature\n",
        "import urllib.parse\n",
        "import requests\n",
        "from IPython.display import display, HTML\n",
        "\n",
        "def display_temp(location):\n",
        "\n",
        "    encoded_location = urllib.parse.quote_plus(location)\n",
        "    API_KEY = '4413b420b3e748bfad6173701250704'\n",
        "    url = f\"http://api.weatherapi.com/v1/current.json?key={API_KEY}&q={encoded_location}\"\n",
        "\n",
        "    try:\n",
        "        response = requests.get(url)\n",
        "        data = response.json()\n",
        "\n",
        "        temp_c = data['current']['temp_c']\n",
        "        condition = data['current']['condition']['text']\n",
        "\n",
        "        display(HTML(f\"\"\"\n",
        "            <b>Temparature in {location.title()}:</b><br>\n",
        "            Condition: {condition}<br>\n",
        "            Temperature: {temp_c}°C<br>\n",
        "\n",
        "        \"\"\"))\n",
        "\n",
        "    except Exception as e:\n",
        "        display(HTML(\"Failed to fetch real-time weather data.\"))\n",
        "        print(\"Error:\", e)\n"
      ],
      "metadata": {
        "id": "t_KW6D_gU9aG"
      },
      "execution_count": 65,
      "outputs": []
    },
    {
      "cell_type": "code",
      "source": [
        "display_temp(\"ashok nagar, hyderabad\")"
      ],
      "metadata": {
        "colab": {
          "base_uri": "https://localhost:8080/",
          "height": 69
        },
        "id": "qz3jsO5HU-Wz",
        "outputId": "39416583-6a2c-49fc-ec3a-bf3616db9be2"
      },
      "execution_count": 66,
      "outputs": [
        {
          "output_type": "display_data",
          "data": {
            "text/plain": [
              "<IPython.core.display.HTML object>"
            ],
            "text/html": [
              "\n",
              "            <b>Temparature in Ashok Nagar, Hyderabad:</b><br>\n",
              "            Condition: Mist<br>\n",
              "            Temperature: 33.2°C<br>\n",
              "            \n",
              "        "
            ]
          },
          "metadata": {}
        }
      ]
    },
    {
      "cell_type": "markdown",
      "source": [
        "**Cloud Cover and Humidity Information**"
      ],
      "metadata": {
        "id": "vZusdWrrg24O"
      }
    },
    {
      "cell_type": "code",
      "source": [
        "# For cloud cover and humidity\n",
        "import urllib.parse\n",
        "import requests\n",
        "from IPython.display import display, HTML\n",
        "\n",
        "def display_cch(location):\n",
        "\n",
        "    encoded_location = urllib.parse.quote_plus(location)\n",
        "    API_KEY = '4413b420b3e748bfad6173701250704'\n",
        "    url = f\"http://api.weatherapi.com/v1/current.json?key={API_KEY}&q={encoded_location}\"\n",
        "\n",
        "    try:\n",
        "        response = requests.get(url)\n",
        "        data = response.json()\n",
        "\n",
        "        cloud = data['current']['cloud']\n",
        "        humidity = data['current']['humidity']\n",
        "\n",
        "        display(HTML(f\"\"\"\n",
        "            <b>Cloud Cover and Humidity in {location.title()}:</b><br>\n",
        "            Cloud Cover: {cloud} %<br>\n",
        "            Humidity: {humidity} %<br>\n",
        "\n",
        "        \"\"\"))\n",
        "\n",
        "    except Exception as e:\n",
        "        display(HTML(\"Failed to fetch real-time weather data.\"))\n",
        "        print(\"Error:\", e)\n"
      ],
      "metadata": {
        "id": "y6JjUTxLVGy7"
      },
      "execution_count": 12,
      "outputs": []
    },
    {
      "cell_type": "code",
      "source": [
        "display_cch(\"ashok nagar, hyderabad\")"
      ],
      "metadata": {
        "colab": {
          "base_uri": "https://localhost:8080/",
          "height": 69
        },
        "id": "uc3TkG7sh_M-",
        "outputId": "1644444a-7e8c-45c4-8d0f-c6bec3e1e258"
      },
      "execution_count": 13,
      "outputs": [
        {
          "output_type": "display_data",
          "data": {
            "text/plain": [
              "<IPython.core.display.HTML object>"
            ],
            "text/html": [
              "\n",
              "            <b>Cloud Cover and Humidity in Ashok Nagar, Hyderabad:</b><br>\n",
              "            Cloud Cover: 50 %<br>\n",
              "            Humidity: 75 %<br>\n",
              "            \n",
              "        "
            ]
          },
          "metadata": {}
        }
      ]
    },
    {
      "cell_type": "markdown",
      "source": [
        "**Wind Information**"
      ],
      "metadata": {
        "id": "1ZIDlFNairyA"
      }
    },
    {
      "cell_type": "code",
      "source": [
        "# For wind information\n",
        "import urllib.parse\n",
        "import requests\n",
        "from IPython.display import display, HTML\n",
        "\n",
        "def display_wind(location):\n",
        "\n",
        "    encoded_location = urllib.parse.quote_plus(location)\n",
        "    API_KEY = '4413b420b3e748bfad6173701250704'\n",
        "    url = f\"http://api.weatherapi.com/v1/current.json?key={API_KEY}&q={encoded_location}\"\n",
        "\n",
        "    try:\n",
        "        response = requests.get(url)\n",
        "        data = response.json()\n",
        "\n",
        "        wind_kph = data['current']['wind_kph']\n",
        "        gust_kph = data['current']['gust_kph']\n",
        "\n",
        "        display(HTML(f\"\"\"\n",
        "            <b>Wind Information in {location.title()}:</b><br>\n",
        "            Wind Speed : {wind_kph} kmph<br>\n",
        "            Gust Speed : {gust_kph} kmph<br>\n",
        "\n",
        "        \"\"\"))\n",
        "\n",
        "    except Exception as e:\n",
        "        display(HTML(\"Failed to fetch real-time weather data.\"))\n",
        "        print(\"Error:\", e)\n"
      ],
      "metadata": {
        "id": "GSo7xZ8kiCmn"
      },
      "execution_count": 22,
      "outputs": []
    },
    {
      "cell_type": "code",
      "source": [
        "display_wind(\"ashok nagar, hyderabad\")"
      ],
      "metadata": {
        "colab": {
          "base_uri": "https://localhost:8080/",
          "height": 69
        },
        "id": "iwAaBAZPkJUF",
        "outputId": "792fb25c-e92c-4256-cdfe-562b70f1ea81"
      },
      "execution_count": 23,
      "outputs": [
        {
          "output_type": "display_data",
          "data": {
            "text/plain": [
              "<IPython.core.display.HTML object>"
            ],
            "text/html": [
              "\n",
              "            <b>Wind Information in Ashok Nagar, Hyderabad:</b><br>\n",
              "            Wind Speed : 11.5 kmph<br>\n",
              "            Gust Speed : 13.2 kmph<br>\n",
              "            \n",
              "        "
            ]
          },
          "metadata": {}
        }
      ]
    },
    {
      "cell_type": "markdown",
      "source": [
        "**Precipitation**"
      ],
      "metadata": {
        "id": "VsKyTZlxo4Dd"
      }
    },
    {
      "cell_type": "code",
      "source": [
        "# For rain information\n",
        "import urllib.parse\n",
        "import requests\n",
        "from IPython.display import display, HTML\n",
        "\n",
        "def display_rain(location):\n",
        "\n",
        "    encoded_location = urllib.parse.quote_plus(location)\n",
        "    API_KEY = '4413b420b3e748bfad6173701250704'\n",
        "    url = f\"http://api.weatherapi.com/v1/current.json?key={API_KEY}&q={encoded_location}\"\n",
        "\n",
        "    try:\n",
        "        response = requests.get(url)\n",
        "        data = response.json()\n",
        "\n",
        "        precip = data['current']['precip_mm']\n",
        "\n",
        "        display(HTML(f\"\"\"\n",
        "            <b>Precipitation(Rain) Information in {location.title()}:</b><br>\n",
        "            Precipitation : {precip} mm<br>\n",
        "        \"\"\"))\n",
        "\n",
        "    except Exception as e:\n",
        "        display(HTML(\"Failed to fetch real-time weather data.\"))\n",
        "        print(\"Error:\", e)\n"
      ],
      "metadata": {
        "id": "lP_SeL18mBbG"
      },
      "execution_count": 40,
      "outputs": []
    },
    {
      "cell_type": "code",
      "source": [
        "display_rain(\"ashok nagar, hyderabad\")"
      ],
      "metadata": {
        "colab": {
          "base_uri": "https://localhost:8080/",
          "height": 52
        },
        "id": "H_dZIq_9mxry",
        "outputId": "251915ca-8477-4c8b-fab6-0f5e3415c972"
      },
      "execution_count": 41,
      "outputs": [
        {
          "output_type": "display_data",
          "data": {
            "text/plain": [
              "<IPython.core.display.HTML object>"
            ],
            "text/html": [
              "\n",
              "            <b>Precipitation(Rain) Information in Ashok Nagar, Hyderabad:</b><br>\n",
              "            Precipitation : 0.0 mm<br>            \n",
              "        "
            ]
          },
          "metadata": {}
        }
      ]
    },
    {
      "cell_type": "markdown",
      "source": [
        "**Pressure**"
      ],
      "metadata": {
        "id": "fxk7n1AKuVj8"
      }
    },
    {
      "cell_type": "code",
      "source": [
        "# For pressure information\n",
        "import urllib.parse\n",
        "import requests\n",
        "from IPython.display import display, HTML\n",
        "\n",
        "def display_pressure(location):\n",
        "\n",
        "    encoded_location = urllib.parse.quote_plus(location)\n",
        "    API_KEY = '4413b420b3e748bfad6173701250704'\n",
        "    url = f\"http://api.weatherapi.com/v1/current.json?key={API_KEY}&q={encoded_location}\"\n",
        "\n",
        "    try:\n",
        "        response = requests.get(url)\n",
        "        data = response.json()\n",
        "\n",
        "        pressure = data['current']['pressure_mb']\n",
        "\n",
        "        display(HTML(f\"\"\"\n",
        "            <b>Pressure Information in {location.title()}:</b><br>\n",
        "            Pressure : {pressure} mb<br>\n",
        "        \"\"\"))\n",
        "\n",
        "    except Exception as e:\n",
        "        display(HTML(\"Failed to fetch real-time weather data.\"))\n",
        "        print(\"Error:\", e)\n"
      ],
      "metadata": {
        "id": "6n5x_pGrm0XN"
      },
      "execution_count": 42,
      "outputs": []
    },
    {
      "cell_type": "code",
      "source": [
        "display_pressure(\"ashok nagar, hyderabad\")"
      ],
      "metadata": {
        "colab": {
          "base_uri": "https://localhost:8080/",
          "height": 52
        },
        "id": "-VPICBBSpLYm",
        "outputId": "d0feb636-1a40-46f2-fa9c-7f9fe2f7c210"
      },
      "execution_count": 43,
      "outputs": [
        {
          "output_type": "display_data",
          "data": {
            "text/plain": [
              "<IPython.core.display.HTML object>"
            ],
            "text/html": [
              "\n",
              "            <b>Pressure Information in Ashok Nagar, Hyderabad:</b><br>\n",
              "            Pressure : 1011.0 mb<br>            \n",
              "        "
            ]
          },
          "metadata": {}
        }
      ]
    },
    {
      "cell_type": "markdown",
      "source": [
        "**Visibility**"
      ],
      "metadata": {
        "id": "evUjOggfuYhb"
      }
    },
    {
      "cell_type": "code",
      "source": [
        "# For visibility information\n",
        "import urllib.parse\n",
        "import requests\n",
        "from IPython.display import display, HTML\n",
        "\n",
        "def display_vis(location):\n",
        "\n",
        "    encoded_location = urllib.parse.quote_plus(location)\n",
        "    API_KEY = '4413b420b3e748bfad6173701250704'\n",
        "    url = f\"http://api.weatherapi.com/v1/current.json?key={API_KEY}&q={encoded_location}\"\n",
        "\n",
        "    try:\n",
        "        response = requests.get(url)\n",
        "        data = response.json()\n",
        "\n",
        "        vis = data['current']['vis_km']\n",
        "\n",
        "        display(HTML(f\"\"\"\n",
        "            <b>Visibility Information in {location.title()}:</b><br>\n",
        "            Visibility : {vis} km<br>\n",
        "        \"\"\"))\n",
        "\n",
        "    except Exception as e:\n",
        "        display(HTML(\"Failed to fetch real-time weather data.\"))\n",
        "        print(\"Error:\", e)\n"
      ],
      "metadata": {
        "id": "aiEPSem5pM8d"
      },
      "execution_count": 46,
      "outputs": []
    },
    {
      "cell_type": "code",
      "source": [
        "display_vis(\"ashok nagar, hyderabad\")"
      ],
      "metadata": {
        "colab": {
          "base_uri": "https://localhost:8080/",
          "height": 52
        },
        "id": "HOcTFJIQpwV3",
        "outputId": "3ff5b3b4-3c6a-450e-9c32-ca3a41b84e8c"
      },
      "execution_count": 47,
      "outputs": [
        {
          "output_type": "display_data",
          "data": {
            "text/plain": [
              "<IPython.core.display.HTML object>"
            ],
            "text/html": [
              "\n",
              "            <b>Visibility Information in Ashok Nagar, Hyderabad:</b><br>\n",
              "            Visibility : 4.0 km<br>            \n",
              "        "
            ]
          },
          "metadata": {}
        }
      ]
    },
    {
      "cell_type": "markdown",
      "source": [
        "**Astronomical Weather**"
      ],
      "metadata": {
        "id": "uN76xI0hubjr"
      }
    },
    {
      "cell_type": "code",
      "source": [
        "import urllib.parse\n",
        "import requests\n",
        "from IPython.display import display, HTML\n",
        "\n",
        "def display_astro(location):\n",
        "\n",
        "    encoded_location = urllib.parse.quote_plus(location)\n",
        "    API_KEY = '4413b420b3e748bfad6173701250704'\n",
        "    url = f\"http://api.weatherapi.com/v1/forecast.json?key={API_KEY}&q={encoded_location}&days=1\"\n",
        "\n",
        "    try:\n",
        "        response = requests.get(url)\n",
        "        data = response.json()\n",
        "\n",
        "        sunrise = data['forecast']['forecastday'][0]['astro']['sunrise']\n",
        "        sunset = data['forecast']['forecastday'][0]['astro']['sunset']\n",
        "        moon_phase = data['forecast']['forecastday'][0]['astro']['moon_phase']\n",
        "        moon_illumination = data['forecast']['forecastday'][0]['astro']['moon_illumination']\n",
        "\n",
        "        display(HTML(f\"\"\"\n",
        "            <b>Astronomical Information in {location.title()}:</b><br>\n",
        "            Sunrise : {sunrise}<br>\n",
        "            Sunset : {sunset}<br>\n",
        "            Moon Phase : {moon_phase}<br>\n",
        "            Moon Illumination : {moon_illumination}<br>\n",
        "        \"\"\"))\n",
        "\n",
        "    except Exception as e:\n",
        "        display(HTML(\"Failed to fetch real-time weather data.\"))\n",
        "        print(\"Error:\", e)"
      ],
      "metadata": {
        "id": "aSHA4RL_pziV"
      },
      "execution_count": 61,
      "outputs": []
    },
    {
      "cell_type": "code",
      "source": [
        "display_astro(\"ashok nagar, hyderabad\")"
      ],
      "metadata": {
        "colab": {
          "base_uri": "https://localhost:8080/",
          "height": 104
        },
        "id": "YNnB_2etq5ry",
        "outputId": "be069694-ccb0-45da-a54e-4cbc795138e6"
      },
      "execution_count": 62,
      "outputs": [
        {
          "output_type": "display_data",
          "data": {
            "text/plain": [
              "<IPython.core.display.HTML object>"
            ],
            "text/html": [
              "\n",
              "            <b>Astronomical Information in Ashok Nagar, Hyderabad:</b><br>\n",
              "            Sunrise : 06:01 AM<br>\n",
              "            Sunset : 06:21 PM<br> \n",
              "            Moon Phase : Waxing Gibbous<br> \n",
              "            Moon Illumination : 78<br> \n",
              "        "
            ]
          },
          "metadata": {}
        }
      ]
    },
    {
      "cell_type": "markdown",
      "source": [
        "**Final**"
      ],
      "metadata": {
        "id": "6b1mZ4yZuooV"
      }
    },
    {
      "cell_type": "code",
      "source": [
        "def call_funcs(location):\n",
        "    display_temp(location)\n",
        "    display_cch(location)\n",
        "    display_wind(location)\n",
        "    display_rain(location)\n",
        "    display_pressure(location)\n",
        "    display_vis(location)\n",
        "    display_astro(location)\n",
        ""
      ],
      "metadata": {
        "id": "mqyRv_ays6o8"
      },
      "execution_count": 67,
      "outputs": []
    },
    {
      "cell_type": "code",
      "source": [
        "call_funcs(\"ashok nagar, hyderabad\")"
      ],
      "metadata": {
        "colab": {
          "base_uri": "https://localhost:8080/",
          "height": 364
        },
        "id": "Zo80G9ayuvwc",
        "outputId": "ce58c5d4-1896-4f5a-e6fe-14f08256e9b5"
      },
      "execution_count": 68,
      "outputs": [
        {
          "output_type": "display_data",
          "data": {
            "text/plain": [
              "<IPython.core.display.HTML object>"
            ],
            "text/html": [
              "\n",
              "            <b>Temparature in Ashok Nagar, Hyderabad:</b><br>\n",
              "            Condition: Mist<br>\n",
              "            Temperature: 33.2°C<br>\n",
              "            \n",
              "        "
            ]
          },
          "metadata": {}
        },
        {
          "output_type": "display_data",
          "data": {
            "text/plain": [
              "<IPython.core.display.HTML object>"
            ],
            "text/html": [
              "\n",
              "            <b>Cloud Cover and Humidity in Ashok Nagar, Hyderabad:</b><br>\n",
              "            Cloud Cover: 50 %<br>\n",
              "            Humidity: 63 %<br>\n",
              "            \n",
              "        "
            ]
          },
          "metadata": {}
        },
        {
          "output_type": "display_data",
          "data": {
            "text/plain": [
              "<IPython.core.display.HTML object>"
            ],
            "text/html": [
              "\n",
              "            <b>Wind Information in Ashok Nagar, Hyderabad:</b><br>\n",
              "            Wind Speed : 16.2 kmph<br>\n",
              "            Gust Speed : 18.6 kmph<br>\n",
              "            \n",
              "        "
            ]
          },
          "metadata": {}
        },
        {
          "output_type": "display_data",
          "data": {
            "text/plain": [
              "<IPython.core.display.HTML object>"
            ],
            "text/html": [
              "\n",
              "            <b>Precipitation(Rain) Information in Ashok Nagar, Hyderabad:</b><br>\n",
              "            Precipitation : 0.0 mm<br>            \n",
              "        "
            ]
          },
          "metadata": {}
        },
        {
          "output_type": "display_data",
          "data": {
            "text/plain": [
              "<IPython.core.display.HTML object>"
            ],
            "text/html": [
              "\n",
              "            <b>Pressure Information in Ashok Nagar, Hyderabad:</b><br>\n",
              "            Pressure : 1011.0 mb<br>            \n",
              "        "
            ]
          },
          "metadata": {}
        },
        {
          "output_type": "display_data",
          "data": {
            "text/plain": [
              "<IPython.core.display.HTML object>"
            ],
            "text/html": [
              "\n",
              "            <b>Visibility Information in Ashok Nagar, Hyderabad:</b><br>\n",
              "            Visibility : 4.5 km<br>            \n",
              "        "
            ]
          },
          "metadata": {}
        },
        {
          "output_type": "display_data",
          "data": {
            "text/plain": [
              "<IPython.core.display.HTML object>"
            ],
            "text/html": [
              "\n",
              "            <b>Astronomical Information in Ashok Nagar, Hyderabad:</b><br>\n",
              "            Sunrise : 06:01 AM<br>\n",
              "            Sunset : 06:21 PM<br> \n",
              "            Moon Phase : Waxing Gibbous<br> \n",
              "            Moon Illumination : 78<br> \n",
              "        "
            ]
          },
          "metadata": {}
        }
      ]
    },
    {
      "cell_type": "code",
      "source": [
        "call_funcs(\"juhu, mumbai\")"
      ],
      "metadata": {
        "colab": {
          "base_uri": "https://localhost:8080/",
          "height": 364
        },
        "id": "gyLtkn_Ruzvm",
        "outputId": "a855937d-8db5-427e-a158-ab27f07ac879"
      },
      "execution_count": 69,
      "outputs": [
        {
          "output_type": "display_data",
          "data": {
            "text/plain": [
              "<IPython.core.display.HTML object>"
            ],
            "text/html": [
              "\n",
              "            <b>Temparature in Juhu, Mumbai:</b><br>\n",
              "            Condition: Overcast<br>\n",
              "            Temperature: 33.3°C<br>\n",
              "            \n",
              "        "
            ]
          },
          "metadata": {}
        },
        {
          "output_type": "display_data",
          "data": {
            "text/plain": [
              "<IPython.core.display.HTML object>"
            ],
            "text/html": [
              "\n",
              "            <b>Cloud Cover and Humidity in Juhu, Mumbai:</b><br>\n",
              "            Cloud Cover: 0 %<br>\n",
              "            Humidity: 47 %<br>\n",
              "            \n",
              "        "
            ]
          },
          "metadata": {}
        },
        {
          "output_type": "display_data",
          "data": {
            "text/plain": [
              "<IPython.core.display.HTML object>"
            ],
            "text/html": [
              "\n",
              "            <b>Wind Information in Juhu, Mumbai:</b><br>\n",
              "            Wind Speed : 17.6 kmph<br>\n",
              "            Gust Speed : 30.9 kmph<br>\n",
              "            \n",
              "        "
            ]
          },
          "metadata": {}
        },
        {
          "output_type": "display_data",
          "data": {
            "text/plain": [
              "<IPython.core.display.HTML object>"
            ],
            "text/html": [
              "\n",
              "            <b>Precipitation(Rain) Information in Juhu, Mumbai:</b><br>\n",
              "            Precipitation : 0.0 mm<br>            \n",
              "        "
            ]
          },
          "metadata": {}
        },
        {
          "output_type": "display_data",
          "data": {
            "text/plain": [
              "<IPython.core.display.HTML object>"
            ],
            "text/html": [
              "\n",
              "            <b>Pressure Information in Juhu, Mumbai:</b><br>\n",
              "            Pressure : 1011.0 mb<br>            \n",
              "        "
            ]
          },
          "metadata": {}
        },
        {
          "output_type": "display_data",
          "data": {
            "text/plain": [
              "<IPython.core.display.HTML object>"
            ],
            "text/html": [
              "\n",
              "            <b>Visibility Information in Juhu, Mumbai:</b><br>\n",
              "            Visibility : 2.5 km<br>            \n",
              "        "
            ]
          },
          "metadata": {}
        },
        {
          "output_type": "display_data",
          "data": {
            "text/plain": [
              "<IPython.core.display.HTML object>"
            ],
            "text/html": [
              "\n",
              "            <b>Astronomical Information in Juhu, Mumbai:</b><br>\n",
              "            Sunrise : 06:27 AM<br>\n",
              "            Sunset : 06:54 PM<br> \n",
              "            Moon Phase : Waxing Gibbous<br> \n",
              "            Moon Illumination : 78<br> \n",
              "        "
            ]
          },
          "metadata": {}
        }
      ]
    }
  ]
}