{
  "nbformat": 4,
  "nbformat_minor": 0,
  "metadata": {
    "colab": {
      "provenance": []
    },
    "kernelspec": {
      "name": "python3",
      "display_name": "Python 3"
    },
    "language_info": {
      "name": "python"
    }
  },
  "cells": [
    {
      "cell_type": "code",
      "source": [
        "import urllib.parse\n",
        "import requests\n",
        "from IPython.display import display, HTML\n",
        "\n",
        "def display_links_and_weather_alert(location):\n",
        "    display(HTML(f'<b>For location {location}</b><br>'))\n",
        "    encoded_location = urllib.parse.quote_plus(location)\n",
        "    weather_api_url = f\"https://wttr.in/{encoded_location}?format=j1\"\n",
        "    try:\n",
        "        res = requests.get(weather_api_url)\n",
        "        data = res.json()\n",
        "        temp_c = data['current_condition'][0]['temp_C']\n",
        "        condition = data['current_condition'][0]['weatherDesc'][0]['value']\n",
        "\n",
        "        display(HTML(f\"Current Weather in {location.title()}: {condition}, {temp_c}°C<br>\"))\n",
        "\n",
        "    except Exception as e:\n",
        "        display(HTML(\"<b style='color:red;'>Failed to fetch real-time weather data.</b>\"))\n",
        "        print(\"Error:\", e)\n"
      ],
      "metadata": {
        "id": "HZPMCpheH0Ey"
      },
      "execution_count": 3,
      "outputs": []
    },
    {
      "cell_type": "code",
      "source": [
        "display_links_and_weather_alert(\"ashok nagar, hyderabad\")\n",
        "display_links_and_weather_alert(\"karol bagh, delhi\")\n"
      ],
      "metadata": {
        "id": "h-Gd08Rto8mc",
        "colab": {
          "base_uri": "https://localhost:8080/",
          "height": 86
        },
        "outputId": "42e6fece-70e8-47bc-d690-9f11f422bf19"
      },
      "execution_count": 4,
      "outputs": [
        {
          "output_type": "display_data",
          "data": {
            "text/plain": [
              "<IPython.core.display.HTML object>"
            ],
            "text/html": [
              "<b>For location ashok nagar, hyderabad</b><br>"
            ]
          },
          "metadata": {}
        },
        {
          "output_type": "display_data",
          "data": {
            "text/plain": [
              "<IPython.core.display.HTML object>"
            ],
            "text/html": [
              "Current Weather in Ashok Nagar, Hyderabad: Partly cloudy, 30°C<br>"
            ]
          },
          "metadata": {}
        },
        {
          "output_type": "display_data",
          "data": {
            "text/plain": [
              "<IPython.core.display.HTML object>"
            ],
            "text/html": [
              "<b>For location karol bagh, delhi</b><br>"
            ]
          },
          "metadata": {}
        },
        {
          "output_type": "display_data",
          "data": {
            "text/plain": [
              "<IPython.core.display.HTML object>"
            ],
            "text/html": [
              "Current Weather in Karol Bagh, Delhi: Haze, 31°C<br>"
            ]
          },
          "metadata": {}
        }
      ]
    }
  ]
}